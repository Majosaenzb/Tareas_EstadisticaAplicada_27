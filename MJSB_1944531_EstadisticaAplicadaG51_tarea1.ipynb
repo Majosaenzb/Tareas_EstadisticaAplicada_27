{
  "cells": [
    {
      "cell_type": "markdown",
      "metadata": {
        "id": "view-in-github",
        "colab_type": "text"
      },
      "source": [
        "<a href=\"https://colab.research.google.com/github/Majosaenzb/Tareas_EstadisticaAplicada_27/blob/main/MJSB_1944531_EstadisticaAplicadaG51_tarea1.ipynb\" target=\"_parent\"><img src=\"https://colab.research.google.com/assets/colab-badge.svg\" alt=\"Open In Colab\"/></a>"
      ]
    },
    {
      "cell_type": "markdown",
      "id": "d5ecd489-845b-4b65-9fa4-215e0130b216",
      "metadata": {
        "id": "d5ecd489-845b-4b65-9fa4-215e0130b216"
      },
      "source": [
        "1. Crea una lista con los nombres de pila de los integrantes de tu familia, la lista se llamara mi_familia"
      ]
    },
    {
      "cell_type": "code",
      "execution_count": 1,
      "id": "fbb59900-828b-4e32-a25d-d2fd0c703fe9",
      "metadata": {
        "colab": {
          "base_uri": "https://localhost:8080/"
        },
        "id": "fbb59900-828b-4e32-a25d-d2fd0c703fe9",
        "outputId": "20499e54-4567-4f2d-f4ca-308eeea37777"
      },
      "outputs": [
        {
          "output_type": "execute_result",
          "data": {
            "text/plain": [
              "['Jose', 'Lupita', 'Gloria', 'Daniel', 'Majo']"
            ]
          },
          "metadata": {},
          "execution_count": 1
        }
      ],
      "source": [
        "#respuesta\n",
        "mi_familia = ['Jose', 'Lupita', 'Gloria', 'Daniel', 'Majo']\n",
        "mi_familia"
      ]
    },
    {
      "cell_type": "markdown",
      "id": "2d37233b-9475-4157-9240-63aa5f82cc33",
      "metadata": {
        "id": "2d37233b-9475-4157-9240-63aa5f82cc33"
      },
      "source": [
        "2. Crea una variable float que se llame mi_edad con tu edad \\\n",
        "Nota: las variables float contienen decimales "
      ]
    },
    {
      "cell_type": "code",
      "execution_count": 21,
      "id": "b984f18b-109c-4938-8340-25acc322e18b",
      "metadata": {
        "id": "b984f18b-109c-4938-8340-25acc322e18b"
      },
      "outputs": [],
      "source": [
        "#respuesta\n",
        "mi_edad = 21"
      ]
    },
    {
      "cell_type": "code",
      "execution_count": 8,
      "id": "36332559-019c-4b32-ac1e-4d70e7f205f2",
      "metadata": {
        "id": "36332559-019c-4b32-ac1e-4d70e7f205f2"
      },
      "outputs": [],
      "source": [
        "#al ejecutar el comando de abajo debe resultarte float\n",
        "mi_edad = float(mi_edad)"
      ]
    },
    {
      "cell_type": "code",
      "source": [
        "type(mi_edad)"
      ],
      "metadata": {
        "colab": {
          "base_uri": "https://localhost:8080/"
        },
        "id": "a0tKyGvCJviS",
        "outputId": "a03bda84-3194-4da9-92d9-3d5a7a278a9d"
      },
      "id": "a0tKyGvCJviS",
      "execution_count": 9,
      "outputs": [
        {
          "output_type": "execute_result",
          "data": {
            "text/plain": [
              "float"
            ]
          },
          "metadata": {},
          "execution_count": 9
        }
      ]
    },
    {
      "cell_type": "markdown",
      "id": "31fe34c2-a22d-4cd3-8513-10636f9f321c",
      "metadata": {
        "id": "31fe34c2-a22d-4cd3-8513-10636f9f321c"
      },
      "source": [
        "3. Convierte la variable mi_edad a entero (int) y guardalo en mi_edad "
      ]
    },
    {
      "cell_type": "code",
      "execution_count": 10,
      "id": "3ff48778-6d4a-4328-8fbe-5c036a9b29b3",
      "metadata": {
        "id": "3ff48778-6d4a-4328-8fbe-5c036a9b29b3"
      },
      "outputs": [],
      "source": [
        "#respuesta\n",
        "mi_edad = int(mi_edad)"
      ]
    },
    {
      "cell_type": "code",
      "execution_count": 11,
      "id": "442ebc5b-cc8c-4c64-8c15-2e2623721e4e",
      "metadata": {
        "colab": {
          "base_uri": "https://localhost:8080/"
        },
        "id": "442ebc5b-cc8c-4c64-8c15-2e2623721e4e",
        "outputId": "74a842bc-c5b4-4abc-91ad-c60b7b2bec9f"
      },
      "outputs": [
        {
          "output_type": "execute_result",
          "data": {
            "text/plain": [
              "int"
            ]
          },
          "metadata": {},
          "execution_count": 11
        }
      ],
      "source": [
        "#al ejecutar el comando de abajo debe resultarte int\n",
        "type(mi_edad)"
      ]
    },
    {
      "cell_type": "markdown",
      "id": "9057e59d-28cc-4885-9d3f-b8925ccd000a",
      "metadata": {
        "id": "9057e59d-28cc-4885-9d3f-b8925ccd000a"
      },
      "source": [
        "4. Con el comando len(objeto) muestra cuántos integrantes tiene tu familia"
      ]
    },
    {
      "cell_type": "code",
      "execution_count": 12,
      "id": "3e62392c-2cee-4323-8e6a-fa271281f434",
      "metadata": {
        "colab": {
          "base_uri": "https://localhost:8080/"
        },
        "id": "3e62392c-2cee-4323-8e6a-fa271281f434",
        "outputId": "d0fef63d-026f-4fb9-cfc3-44eee0325a9f"
      },
      "outputs": [
        {
          "output_type": "execute_result",
          "data": {
            "text/plain": [
              "5"
            ]
          },
          "metadata": {},
          "execution_count": 12
        }
      ],
      "source": [
        "#respuesta\n",
        "len(mi_familia)"
      ]
    },
    {
      "cell_type": "markdown",
      "id": "b7c110fb-968d-48ed-ba68-7c235c94a35d",
      "metadata": {
        "id": "b7c110fb-968d-48ed-ba68-7c235c94a35d"
      },
      "source": [
        "5. Utiliza print para que se imprima en pantalla tu edad "
      ]
    },
    {
      "cell_type": "code",
      "source": [
        "print('Yo tengo', mi_edad, 'años')"
      ],
      "metadata": {
        "colab": {
          "base_uri": "https://localhost:8080/"
        },
        "id": "Y7Q-SFVHKqZg",
        "outputId": "6bdb6c04-a432-4ecf-8ec4-c75b6c66e4f3"
      },
      "id": "Y7Q-SFVHKqZg",
      "execution_count": 14,
      "outputs": [
        {
          "output_type": "stream",
          "name": "stdout",
          "text": [
            "Yo tengo 21 años\n"
          ]
        }
      ]
    },
    {
      "cell_type": "markdown",
      "id": "5f9a3930-9df6-4e79-8175-31f15d692588",
      "metadata": {
        "id": "5f9a3930-9df6-4e79-8175-31f15d692588"
      },
      "source": [
        "Ejemplo, yo (el profe) tengo 5 perros de mascotas y voy a imprimirlo en pantalla "
      ]
    },
    {
      "cell_type": "code",
      "execution_count": null,
      "id": "59be38ed-2c19-4894-b2f4-2eb7cb121b37",
      "metadata": {
        "id": "59be38ed-2c19-4894-b2f4-2eb7cb121b37",
        "outputId": "a585aaa5-ecb9-4b14-98cb-c258b46bb21c"
      },
      "outputs": [
        {
          "name": "stdout",
          "output_type": "stream",
          "text": [
            "yo tengo 5 perros en casa\n"
          ]
        }
      ],
      "source": [
        "num_mascotas = int(5)\n",
        "print('yo tengo', num_mascotas, 'perros en casa')"
      ]
    },
    {
      "cell_type": "code",
      "execution_count": 15,
      "id": "0560aa51-9c82-40d9-a6de-e12a1e82478d",
      "metadata": {
        "colab": {
          "base_uri": "https://localhost:8080/"
        },
        "id": "0560aa51-9c82-40d9-a6de-e12a1e82478d",
        "outputId": "64128f82-062c-4778-ae0c-90a48f43e23e"
      },
      "outputs": [
        {
          "output_type": "stream",
          "name": "stdout",
          "text": [
            "Yo tengo 21 años\n"
          ]
        }
      ],
      "source": [
        "## tu respuesta para mostrar tu edad\n",
        "## utiliza la variable mi_edad creada anteriormente\n",
        "print('Yo tengo', mi_edad, 'años')\n"
      ]
    },
    {
      "cell_type": "markdown",
      "id": "dcc51ac7-8eba-4b87-a57b-1ffa1c5d1f5d",
      "metadata": {
        "id": "dcc51ac7-8eba-4b87-a57b-1ffa1c5d1f5d"
      },
      "source": [
        "6. Utiliza print para mostrar cuantos integrantes tiene tu familia \\\n",
        "Ahora usa print(f'texto {objeto}'). Mira el ejemplo"
      ]
    },
    {
      "cell_type": "code",
      "execution_count": null,
      "id": "31bc7411-ff72-4913-8730-cd690858a9b4",
      "metadata": {
        "id": "31bc7411-ff72-4913-8730-cd690858a9b4",
        "outputId": "1bbb958b-bf11-402a-a5a2-0abaa8829be2"
      },
      "outputs": [
        {
          "name": "stdout",
          "output_type": "stream",
          "text": [
            "El profe tiene 5 perros en su casa\n"
          ]
        }
      ],
      "source": [
        "print(f'El profe tiene {num_mascotas} perros en su casa')"
      ]
    },
    {
      "cell_type": "code",
      "execution_count": 16,
      "id": "b6a30927-3101-47c0-bbbc-b9c4a4b27b17",
      "metadata": {
        "colab": {
          "base_uri": "https://localhost:8080/"
        },
        "id": "b6a30927-3101-47c0-bbbc-b9c4a4b27b17",
        "outputId": "da1a1787-db36-42a2-f035-314813d4b230"
      },
      "outputs": [
        {
          "output_type": "stream",
          "name": "stdout",
          "text": [
            "En mi familia hay 5 integrantes\n"
          ]
        }
      ],
      "source": [
        "## tu respuesta \n",
        "## utiliza len()\n",
        "\n",
        "print(f'En mi familia hay', len(mi_familia), 'integrantes')"
      ]
    },
    {
      "cell_type": "markdown",
      "id": "38ef105e-a81e-466f-8d5d-8de96d553850",
      "metadata": {
        "id": "38ef105e-a81e-466f-8d5d-8de96d553850"
      },
      "source": [
        "7. Completa el siguiente codigo para que si tienes 20 o más años de edad se imprima \"tengo mas de 20 años\" y sino, se imprima \"tengo menos de 20 años\" "
      ]
    },
    {
      "cell_type": "code",
      "execution_count": 25,
      "id": "02687bc5-a8f2-46cb-84ae-cbf581f0be9c",
      "metadata": {
        "colab": {
          "base_uri": "https://localhost:8080/"
        },
        "id": "02687bc5-a8f2-46cb-84ae-cbf581f0be9c",
        "outputId": "da9681ce-59c6-4a2c-e892-019b712e4c47"
      },
      "outputs": [
        {
          "output_type": "stream",
          "name": "stdout",
          "text": [
            "Tengo mas de 20 años\n"
          ]
        }
      ],
      "source": [
        "mi_edad = 21\n",
        "if mi_edad > 20:\n",
        " print(f'Tengo mas de 20 años')\n",
        "    \n",
        "else:\n",
        " print(f'Tengo menos de 20 años')   \n",
        "    "
      ]
    },
    {
      "cell_type": "code",
      "execution_count": null,
      "id": "c9bf7c6f-ed59-4e11-8d63-49b5ada9e3eb",
      "metadata": {
        "id": "c9bf7c6f-ed59-4e11-8d63-49b5ada9e3eb"
      },
      "outputs": [],
      "source": [
        ""
      ]
    }
  ],
  "metadata": {
    "kernelspec": {
      "display_name": "Python 3 (ipykernel)",
      "language": "python",
      "name": "python3"
    },
    "language_info": {
      "codemirror_mode": {
        "name": "ipython",
        "version": 3
      },
      "file_extension": ".py",
      "mimetype": "text/x-python",
      "name": "python",
      "nbconvert_exporter": "python",
      "pygments_lexer": "ipython3",
      "version": "3.10.2"
    },
    "colab": {
      "name": "MJSB_1944531_EstadisticaAplicadaG51_tarea1.ipynb",
      "provenance": [],
      "include_colab_link": true
    }
  },
  "nbformat": 4,
  "nbformat_minor": 5
}